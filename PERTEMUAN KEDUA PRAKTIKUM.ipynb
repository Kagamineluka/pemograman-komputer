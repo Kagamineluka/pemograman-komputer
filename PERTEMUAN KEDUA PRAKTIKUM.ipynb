{
 "cells": [
  {
   "cell_type": "markdown",
   "metadata": {},
   "source": [
    "# PERTEMUAN 3"
   ]
  },
  {
   "cell_type": "markdown",
   "metadata": {},
   "source": [
    "# INPUT"
   ]
  },
  {
   "cell_type": "code",
   "execution_count": 2,
   "metadata": {},
   "outputs": [
    {
     "name": "stdout",
     "output_type": "stream",
     "text": [
      "halo, ladysa\n",
      "umur anda: 19\n",
      "IPK Anda: 3.8\n"
     ]
    }
   ],
   "source": [
    "# contoh input string\n",
    "nama = input(\"masukan nama Anda: \")\n",
    "print(\"halo,\", nama)\n",
    "\n",
    "\n",
    "\n",
    "# contoh input integer\n",
    "umur = int(input(\"masukan umu: \"))\n",
    "print(\"umur anda:\", umur)\n",
    "\n",
    "\n",
    "# contoh input float\n",
    "ipk = float(input(\"masukan ipk: \"))\n",
    "print(\"IPK Anda:\", ipk )"
   ]
  },
  {
   "cell_type": "markdown",
   "metadata": {},
   "source": [
    "# contoh input yang dipisahkan spasi"
   ]
  },
  {
   "cell_type": "code",
   "execution_count": 4,
   "metadata": {},
   "outputs": [
    {
     "name": "stdout",
     "output_type": "stream",
     "text": [
      "bilangan pertama: 2\n",
      "bilangan kedua: 8\n"
     ]
    }
   ],
   "source": [
    "bil = input(\"masukan dua bilangan bulat dipisahkan oleh spasi: \")\n",
    "# membagi variabel bil menjadi variabel bil1 dan bil2\n",
    "bil1, bil2 = map(int, bil.split())\n",
    "print(\"bilangan pertama:\", bil1)\n",
    "print(\"bilangan kedua:\", bil2)\n"
   ]
  },
  {
   "cell_type": "markdown",
   "metadata": {},
   "source": [
    "# macam macam jenis output"
   ]
  },
  {
   "cell_type": "code",
   "execution_count": 7,
   "metadata": {},
   "outputs": [
    {
     "name": "stdout",
     "output_type": "stream",
     "text": [
      "halo ladysa umur anda: 19 ipk anda: 3.8\n",
      "halo ladysa, umur anda: 19 IPK anda: 3.8\n",
      "halo ladysa, umur anda: 19, IPK anda: 3.8 \n",
      "hallo ladysa, umur anda: 19, ipk anda: 3.8\n"
     ]
    }
   ],
   "source": [
    "print(\"halo\", nama, \"umur anda:\", umur, \"ipk anda:\", ipk)\n",
    "print(\"halo \"+nama+ \", umur anda:\", umur, \"IPK anda:\", ipk)\n",
    "print(\"halo %s, umur anda: %i, IPK anda: %.1f \" % (nama, umur, ipk))\n",
    "print(f\"hallo {nama}, umur anda: {umur}, ipk anda: {ipk}\")"
   ]
  },
  {
   "cell_type": "markdown",
   "metadata": {},
   "source": [
    "# STRUKTUR RUNTUNAN"
   ]
  },
  {
   "cell_type": "code",
   "execution_count": 8,
   "metadata": {},
   "outputs": [
    {
     "name": "stdout",
     "output_type": "stream",
     "text": [
      "pi = 3.14\n",
      "jari-jari = 15\n",
      "luas lingkaran = 707.14\n"
     ]
    }
   ],
   "source": [
    "# input\n",
    "pi= 22/7\n",
    "r = int(input(\"jari-jari = \"))\n",
    "\n",
    "#proses ,menghitung luas lingkaran\n",
    "luas = pi * r * r\n",
    "\n",
    "#output luas lingkaran\n",
    "print(\"pi = %.2f\" %pi)\n",
    "print(\"jari-jari =\", r)\n",
    "print(\"luas lingkaran = %.2f\" %(luas))\n"
   ]
  }
 ],
 "metadata": {
  "kernelspec": {
   "display_name": "Python 3",
   "language": "python",
   "name": "python3"
  },
  "language_info": {
   "codemirror_mode": {
    "name": "ipython",
    "version": 3
   },
   "file_extension": ".py",
   "mimetype": "text/x-python",
   "name": "python",
   "nbconvert_exporter": "python",
   "pygments_lexer": "ipython3",
   "version": "3.12.2"
  }
 },
 "nbformat": 4,
 "nbformat_minor": 2
}
