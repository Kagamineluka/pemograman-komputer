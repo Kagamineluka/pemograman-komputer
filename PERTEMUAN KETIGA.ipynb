{
 "cells": [
  {
   "cell_type": "markdown",
   "metadata": {},
   "source": [
    "# STRUKTUR SELEKSI"
   ]
  },
  {
   "cell_type": "markdown",
   "metadata": {},
   "source": [
    "# KONSTRUKSI IF THEN"
   ]
  },
  {
   "cell_type": "code",
   "execution_count": 6,
   "metadata": {},
   "outputs": [
    {
     "ename": "TypeError",
     "evalue": "'int' object is not callable",
     "output_type": "error",
     "traceback": [
      "\u001b[1;31m---------------------------------------------------------------------------\u001b[0m",
      "\u001b[1;31mTypeError\u001b[0m                                 Traceback (most recent call last)",
      "Cell \u001b[1;32mIn[6], line 1\u001b[0m\n\u001b[1;32m----> 1\u001b[0m angka \u001b[38;5;241m=\u001b[39m \u001b[38;5;28;43mint\u001b[39;49m\u001b[43m(\u001b[49m\u001b[38;5;28;43minput\u001b[39;49m\u001b[43m(\u001b[49m\u001b[38;5;124;43m\"\u001b[39;49m\u001b[38;5;124;43mmasukan angka\u001b[39;49m\u001b[38;5;124;43m\"\u001b[39;49m\u001b[43m)\u001b[49m\u001b[43m)\u001b[49m\n\u001b[0;32m      3\u001b[0m \u001b[38;5;28;01mif\u001b[39;00m angka \u001b[38;5;241m%\u001b[39m \u001b[38;5;241m2\u001b[39m \u001b[38;5;241m==\u001b[39m\u001b[38;5;241m0\u001b[39m:\n\u001b[0;32m      4\u001b[0m     \u001b[38;5;28mprint\u001b[39m(\u001b[38;5;124mf\u001b[39m\u001b[38;5;124m\"\u001b[39m\u001b[38;5;132;01m{\u001b[39;00mangka\u001b[38;5;250m \u001b[39m\u001b[38;5;132;01m}\u001b[39;00m\u001b[38;5;124m adalah bilangan Genap\u001b[39m\u001b[38;5;124m\"\u001b[39m)\n",
      "\u001b[1;31mTypeError\u001b[0m: 'int' object is not callable"
     ]
    }
   ],
   "source": [
    "angka = int(input(\"masukan angka\"))\n",
    "\n",
    "if angka % 2 ==0:\n",
    "    print(f\"{angka } adalah bilangan Genap\")"
   ]
  },
  {
   "cell_type": "markdown",
   "metadata": {},
   "source": [
    "# KONSTRUKSI IF THEN ELSE"
   ]
  },
  {
   "cell_type": "code",
   "execution_count": 1,
   "metadata": {},
   "outputs": [
    {
     "name": "stdout",
     "output_type": "stream",
     "text": [
      "2024 adalah tahun kabisat\n"
     ]
    }
   ],
   "source": [
    "tahun = int(input(\"masukan tahun\"))\n",
    "\n",
    "if (tahun % 4 == 0 and tahun % 100 != 0) or (tahun % 400 == 0):\n",
    "    print(f\"{tahun} adalah tahun kabisat\")\n",
    "else:\n",
    "    print:(f\"{tahun} bukan tahun kabisat\")"
   ]
  },
  {
   "cell_type": "markdown",
   "metadata": {},
   "source": [
    "# KONSTRUKSI MATCH CASE"
   ]
  },
  {
   "cell_type": "code",
   "execution_count": 4,
   "metadata": {},
   "outputs": [
    {
     "name": "stdout",
     "output_type": "stream",
     "text": [
      "2022 bukan tahun kabisat\n"
     ]
    }
   ],
   "source": [
    "tahun = int(input(\"masukan tahun\"))\n",
    "match tahun:\n",
    "    case int if (tahun % 4 == 0 and tahun % 100 != 0) | (tahun % 400 == 0):\n",
    "        print(f\"{tahun} adalah tahun kabisat\")\n",
    "    case _:\n",
    "        print(f\"{tahun} bukan tahun kabisat\")"
   ]
  },
  {
   "cell_type": "markdown",
   "metadata": {},
   "source": [
    "# KONSTRUKSI ELIF"
   ]
  },
  {
   "cell_type": "code",
   "execution_count": 18,
   "metadata": {},
   "outputs": [
    {
     "name": "stdout",
     "output_type": "stream",
     "text": [
      "(bil1) + (bil2) = (hasil)\n"
     ]
    }
   ],
   "source": [
    "bil1 = int(input(\"masukan angka ke 1\"))\n",
    "bil2 = int(input(\"masukan angka ke 2\"))\n",
    "operator = input(\"masukan operasi yang dingiinginkan (+, -, *, /)\")\n",
    "\n",
    "\n",
    "if operator == \"+\":\n",
    "    hasil = bil1 + bil2 \n",
    "    print(f\"{bil1} + {bil2} = {hasil}\")\n",
    "\n",
    "elif operator == \"-\":\n",
    "    hasil = bil1 - bil2 \n",
    "    print(f\"{bil1} - {bil2} = {hasil} \")\n",
    "elif operator == \"*\":\n",
    "    hasil = bil1 * bil2 \n",
    "    print(f\"{bil1} * {bil2} = {hasil} \")\n",
    "elif operator == \"/\":\n",
    "    hasil = bil1  bil2 \n",
    "    print(f\"{bil1} / {bil2} = {hasil} \")\n",
    "else:\n",
    "    print(\"operator tidak tersedia\")\n"
   ]
  }
 ],
 "metadata": {
  "kernelspec": {
   "display_name": "Python 3",
   "language": "python",
   "name": "python3"
  },
  "language_info": {
   "codemirror_mode": {
    "name": "ipython",
    "version": 3
   },
   "file_extension": ".py",
   "mimetype": "text/x-python",
   "name": "python",
   "nbconvert_exporter": "python",
   "pygments_lexer": "ipython3",
   "version": "3.12.2"
  }
 },
 "nbformat": 4,
 "nbformat_minor": 2
}
